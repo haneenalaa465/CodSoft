{
  "cells": [
    {
      "cell_type": "markdown",
      "metadata": {
        "id": "view-in-github",
        "colab_type": "text"
      },
      "source": [
        "<a href=\"https://colab.research.google.com/github/haneenalaa465/CodSoft/blob/main/Face_Detection_and_Recognition.ipynb\" target=\"_parent\"><img src=\"https://colab.research.google.com/assets/colab-badge.svg\" alt=\"Open In Colab\"/></a>"
      ]
    },
    {
      "cell_type": "markdown",
      "source": [
        "# ***Face*** ***Detection*** ***:***"
      ],
      "metadata": {
        "id": "eTY2E-DBilbx"
      }
    },
    {
      "cell_type": "code",
      "source": [
        "import cv2\n",
        "from google.colab import files\n",
        "import matplotlib.pyplot as plt\n",
        "\n",
        "!wget https://raw.githubusercontent.com/opencv/opencv/master/data/haarcascades/haarcascade_frontalface_default.xml\n",
        "face_detector = cv2.CascadeClassifier('haarcascade_frontalface_default.xml')"
      ],
      "metadata": {
        "colab": {
          "base_uri": "https://localhost:8080/"
        },
        "id": "THdnhEhyikX1",
        "outputId": "7acf3a5c-5cda-42d4-8f0e-0e84f76a2bbe"
      },
      "execution_count": 1,
      "outputs": [
        {
          "output_type": "stream",
          "name": "stdout",
          "text": [
            "--2023-09-19 17:57:21--  https://raw.githubusercontent.com/opencv/opencv/master/data/haarcascades/haarcascade_frontalface_default.xml\n",
            "Resolving raw.githubusercontent.com (raw.githubusercontent.com)... 185.199.108.133, 185.199.109.133, 185.199.110.133, ...\n",
            "Connecting to raw.githubusercontent.com (raw.githubusercontent.com)|185.199.108.133|:443... connected.\n",
            "HTTP request sent, awaiting response... 200 OK\n",
            "Length: 930127 (908K) [text/plain]\n",
            "Saving to: ‘haarcascade_frontalface_default.xml’\n",
            "\n",
            "\r          haarcasca   0%[                    ]       0  --.-KB/s               \rhaarcascade_frontal 100%[===================>] 908.33K  --.-KB/s    in 0.05s   \n",
            "\n",
            "2023-09-19 17:57:21 (16.3 MB/s) - ‘haarcascade_frontalface_default.xml’ saved [930127/930127]\n",
            "\n"
          ]
        }
      ]
    },
    {
      "cell_type": "code",
      "execution_count": 2,
      "metadata": {
        "id": "w4beMtdK0UH8"
      },
      "outputs": [],
      "source": [
        "def upload_and_read_file():\n",
        "    # makes the user to choose a file from the folders on their device\n",
        "    uploaded = files.upload()\n",
        "\n",
        "    # checking if there is no file uploaded\n",
        "    if len(uploaded) == 0:\n",
        "        return None\n",
        "\n",
        "    # get the file name from a dict\n",
        "    file_name = list(uploaded.keys())[0]\n",
        "\n",
        "    # reading the file\n",
        "    with open(file_name, 'rb') as file:\n",
        "        file_content = file.read()\n",
        "\n",
        "    return file_name, file_content #file_content : I can work on the image or video data if need it like display or something"
      ]
    },
    {
      "cell_type": "code",
      "execution_count": 3,
      "metadata": {
        "id": "9N0Ek5UyG4gP"
      },
      "outputs": [],
      "source": [
        "def face_detection_recognition():\n",
        "  file_info = upload_and_read_file()\n",
        "  file_name, file_content = file_info\n",
        "  extension = file_name.split(\".\")\n",
        "\n",
        "  # check if the file uploaded is an image or video\n",
        "  if \"mp4\" in extension[-1].lower():\n",
        "    detection_video(file_name)\n",
        "  elif \"jpg\" in extension[-1].lower() or \"jpeg\" in extension[-1].lower() or \"png\" in extension[-1].lower():\n",
        "    detection_image(file_name)\n",
        "  else:\n",
        "    print(\"File extention error\")"
      ]
    },
    {
      "cell_type": "code",
      "execution_count": 4,
      "metadata": {
        "id": "nlq4sSO7VXnq"
      },
      "outputs": [],
      "source": [
        "def detection_video(file_name):\n",
        "  #Import the video and make error handling\n",
        "  cap = cv2.VideoCapture(file_name)\n",
        "\n",
        "  #Function \"isOpened\" is a boolean function which check if the video opened or not and returns true of false\n",
        "  if (cap.isOpened()== False):\n",
        "    print(\"Error opening video\")\n",
        "\n",
        "  count = 0\n",
        "  #Analyse the video into frames\n",
        "  while(cap.isOpened()):\n",
        "    ret, frame = cap.read()\n",
        "    if ret == True:\n",
        "      #Make a counter to count all the frames\n",
        "      count += 1\n",
        "      pic_name = f\"Frame_{count}.jpg\"\n",
        "      #Save the imported frames\n",
        "      cv2.imwrite(pic_name, frame)\n",
        "    else:\n",
        "      break\n",
        "\n",
        "  for i in range(count):\n",
        "    image = cv2.imread(f\"Frame_{count}.jpg\")\n",
        "    gray = cv2.cvtColor(image, cv2.COLOR_BGR2GRAY)\n",
        "    rects = face_detector.detectMultiScale(gray, 1.3, 5)\n",
        "    crop_count = 0\n",
        "    for (x,y,w,h) in rects:\n",
        "      # Define the label text and position\n",
        "      label_text = f\"face_{crop_count+1}\"\n",
        "      label_position = (x, y - 10)  # Adjust the position for the label just above the rectangle\n",
        "\n",
        "      # Define the font settings\n",
        "      font = cv2.FONT_HERSHEY_SIMPLEX\n",
        "      font_scale = 1\n",
        "      font_color = (255, 255, 255)  # White color\n",
        "      font_thickness = 3\n",
        "\n",
        "      # Add the label text to the image\n",
        "      cv2.putText(image, label_text, label_position, font, font_scale, font_color, font_thickness)\n",
        "      # Making a box around the detected face\n",
        "      cv2.rectangle(image,(x,y),(x+w,y+h),(0,255,0),2)\n",
        "      # Cropping the detected face ans save it\n",
        "      crop = image[y:y+h , x:x+w]\n",
        "      crop_count += 1\n",
        "      crop_name = f\"Crop_{crop_count}.jpg\"\n",
        "      cv2.imwrite(crop_name, crop)\n",
        "\n",
        "      cv2.rectangle(image,(x,y),(x+w,y+h),(0,255,0),2)\n",
        "    print(f\"This photo have {len(rects)} face\")\n",
        "    plt.imshow(cv2.cvtColor(image, cv2.COLOR_BGR2RGB))\n",
        "    plt.title(\"Face Detection\")\n",
        "    plt.axis('off')\n",
        "    plt.show()\n",
        "    print(\"=======================\")"
      ]
    },
    {
      "cell_type": "code",
      "execution_count": 29,
      "metadata": {
        "id": "hXDSY9JIVYYD"
      },
      "outputs": [],
      "source": [
        "def detection_image(file_name):\n",
        "  image = cv2.imread(file_name)\n",
        "  gray = cv2.cvtColor(image, cv2.COLOR_BGR2GRAY)\n",
        "  rects = face_detector.detectMultiScale(gray, 1.3, 5)\n",
        "  crop_count = 0\n",
        "  for (x,y,w,h) in rects:\n",
        "    # Define the label text and position\n",
        "    label_text = f\"face_{crop_count+1}\"\n",
        "    label_position = (x, y - 10)  # Adjust the position for the label just above the rectangle\n",
        "\n",
        "    # Define the font settings\n",
        "    font = cv2.FONT_HERSHEY_SIMPLEX\n",
        "    font_scale = 1\n",
        "    font_color = (255, 255, 255)  # White color\n",
        "    font_thickness = 3\n",
        "\n",
        "    # Add the label text to the image\n",
        "    cv2.putText(image, label_text, label_position, font, font_scale, font_color, font_thickness)\n",
        "    # Making a box around the detected face\n",
        "    cv2.rectangle(image,(x,y),(x+w,y+h),(0,255,0),2)\n",
        "    # Cropping the detected face ans save it\n",
        "    crop = image[y:y+h , x:x+w]\n",
        "    crop_count += 1\n",
        "    crop_name = f\"Crop_{crop_count}.jpg\"\n",
        "    cv2.imwrite(crop_name, crop)\n",
        "\n",
        "  print(f\"This photo have {len(rects)} face(s)\")\n",
        "  plt.imshow(cv2.cvtColor(image, cv2.COLOR_BGR2RGB))\n",
        "  plt.title(\"Face Detection\")\n",
        "  plt.axis('off')\n",
        "  plt.show()\n",
        "  face_crops_recoginiton(len(rects))"
      ]
    },
    {
      "cell_type": "markdown",
      "source": [
        "# ***Face*** ***Recognition*** ***:***"
      ],
      "metadata": {
        "id": "bR18v9Uui-HM"
      }
    },
    {
      "cell_type": "code",
      "source": [
        "!pip install deepface\n",
        "from deepface import DeepFace"
      ],
      "metadata": {
        "colab": {
          "base_uri": "https://localhost:8080/"
        },
        "id": "-R-lPDZTggCM",
        "outputId": "73272a3a-4a47-4c68-ce20-dc70d9b38ec4"
      },
      "execution_count": 15,
      "outputs": [
        {
          "output_type": "stream",
          "name": "stdout",
          "text": [
            "Requirement already satisfied: deepface in /usr/local/lib/python3.10/dist-packages (0.0.79)\n",
            "Requirement already satisfied: numpy>=1.14.0 in /usr/local/lib/python3.10/dist-packages (from deepface) (1.23.5)\n",
            "Requirement already satisfied: pandas>=0.23.4 in /usr/local/lib/python3.10/dist-packages (from deepface) (1.5.3)\n",
            "Requirement already satisfied: tqdm>=4.30.0 in /usr/local/lib/python3.10/dist-packages (from deepface) (4.66.1)\n",
            "Requirement already satisfied: gdown>=3.10.1 in /usr/local/lib/python3.10/dist-packages (from deepface) (4.6.6)\n",
            "Requirement already satisfied: Pillow>=5.2.0 in /usr/local/lib/python3.10/dist-packages (from deepface) (9.4.0)\n",
            "Requirement already satisfied: opencv-python>=4.5.5.64 in /usr/local/lib/python3.10/dist-packages (from deepface) (4.8.0.76)\n",
            "Requirement already satisfied: tensorflow>=1.9.0 in /usr/local/lib/python3.10/dist-packages (from deepface) (2.13.0)\n",
            "Requirement already satisfied: keras>=2.2.0 in /usr/local/lib/python3.10/dist-packages (from deepface) (2.13.1)\n",
            "Requirement already satisfied: Flask>=1.1.2 in /usr/local/lib/python3.10/dist-packages (from deepface) (2.2.5)\n",
            "Requirement already satisfied: mtcnn>=0.1.0 in /usr/local/lib/python3.10/dist-packages (from deepface) (0.1.1)\n",
            "Requirement already satisfied: retina-face>=0.0.1 in /usr/local/lib/python3.10/dist-packages (from deepface) (0.0.13)\n",
            "Requirement already satisfied: fire>=0.4.0 in /usr/local/lib/python3.10/dist-packages (from deepface) (0.5.0)\n",
            "Requirement already satisfied: gunicorn>=20.1.0 in /usr/local/lib/python3.10/dist-packages (from deepface) (21.2.0)\n",
            "Requirement already satisfied: six in /usr/local/lib/python3.10/dist-packages (from fire>=0.4.0->deepface) (1.16.0)\n",
            "Requirement already satisfied: termcolor in /usr/local/lib/python3.10/dist-packages (from fire>=0.4.0->deepface) (2.3.0)\n",
            "Requirement already satisfied: Werkzeug>=2.2.2 in /usr/local/lib/python3.10/dist-packages (from Flask>=1.1.2->deepface) (2.3.7)\n",
            "Requirement already satisfied: Jinja2>=3.0 in /usr/local/lib/python3.10/dist-packages (from Flask>=1.1.2->deepface) (3.1.2)\n",
            "Requirement already satisfied: itsdangerous>=2.0 in /usr/local/lib/python3.10/dist-packages (from Flask>=1.1.2->deepface) (2.1.2)\n",
            "Requirement already satisfied: click>=8.0 in /usr/local/lib/python3.10/dist-packages (from Flask>=1.1.2->deepface) (8.1.7)\n",
            "Requirement already satisfied: filelock in /usr/local/lib/python3.10/dist-packages (from gdown>=3.10.1->deepface) (3.12.2)\n",
            "Requirement already satisfied: requests[socks] in /usr/local/lib/python3.10/dist-packages (from gdown>=3.10.1->deepface) (2.31.0)\n",
            "Requirement already satisfied: beautifulsoup4 in /usr/local/lib/python3.10/dist-packages (from gdown>=3.10.1->deepface) (4.11.2)\n",
            "Requirement already satisfied: packaging in /usr/local/lib/python3.10/dist-packages (from gunicorn>=20.1.0->deepface) (23.1)\n",
            "Requirement already satisfied: python-dateutil>=2.8.1 in /usr/local/lib/python3.10/dist-packages (from pandas>=0.23.4->deepface) (2.8.2)\n",
            "Requirement already satisfied: pytz>=2020.1 in /usr/local/lib/python3.10/dist-packages (from pandas>=0.23.4->deepface) (2023.3.post1)\n",
            "Requirement already satisfied: absl-py>=1.0.0 in /usr/local/lib/python3.10/dist-packages (from tensorflow>=1.9.0->deepface) (1.4.0)\n",
            "Requirement already satisfied: astunparse>=1.6.0 in /usr/local/lib/python3.10/dist-packages (from tensorflow>=1.9.0->deepface) (1.6.3)\n",
            "Requirement already satisfied: flatbuffers>=23.1.21 in /usr/local/lib/python3.10/dist-packages (from tensorflow>=1.9.0->deepface) (23.5.26)\n",
            "Requirement already satisfied: gast<=0.4.0,>=0.2.1 in /usr/local/lib/python3.10/dist-packages (from tensorflow>=1.9.0->deepface) (0.4.0)\n",
            "Requirement already satisfied: google-pasta>=0.1.1 in /usr/local/lib/python3.10/dist-packages (from tensorflow>=1.9.0->deepface) (0.2.0)\n",
            "Requirement already satisfied: grpcio<2.0,>=1.24.3 in /usr/local/lib/python3.10/dist-packages (from tensorflow>=1.9.0->deepface) (1.57.0)\n",
            "Requirement already satisfied: h5py>=2.9.0 in /usr/local/lib/python3.10/dist-packages (from tensorflow>=1.9.0->deepface) (3.9.0)\n",
            "Requirement already satisfied: libclang>=13.0.0 in /usr/local/lib/python3.10/dist-packages (from tensorflow>=1.9.0->deepface) (16.0.6)\n",
            "Requirement already satisfied: opt-einsum>=2.3.2 in /usr/local/lib/python3.10/dist-packages (from tensorflow>=1.9.0->deepface) (3.3.0)\n",
            "Requirement already satisfied: protobuf!=4.21.0,!=4.21.1,!=4.21.2,!=4.21.3,!=4.21.4,!=4.21.5,<5.0.0dev,>=3.20.3 in /usr/local/lib/python3.10/dist-packages (from tensorflow>=1.9.0->deepface) (3.20.3)\n",
            "Requirement already satisfied: setuptools in /usr/local/lib/python3.10/dist-packages (from tensorflow>=1.9.0->deepface) (67.7.2)\n",
            "Requirement already satisfied: tensorboard<2.14,>=2.13 in /usr/local/lib/python3.10/dist-packages (from tensorflow>=1.9.0->deepface) (2.13.0)\n",
            "Requirement already satisfied: tensorflow-estimator<2.14,>=2.13.0 in /usr/local/lib/python3.10/dist-packages (from tensorflow>=1.9.0->deepface) (2.13.0)\n",
            "Requirement already satisfied: typing-extensions<4.6.0,>=3.6.6 in /usr/local/lib/python3.10/dist-packages (from tensorflow>=1.9.0->deepface) (4.5.0)\n",
            "Requirement already satisfied: wrapt>=1.11.0 in /usr/local/lib/python3.10/dist-packages (from tensorflow>=1.9.0->deepface) (1.15.0)\n",
            "Requirement already satisfied: tensorflow-io-gcs-filesystem>=0.23.1 in /usr/local/lib/python3.10/dist-packages (from tensorflow>=1.9.0->deepface) (0.33.0)\n",
            "Requirement already satisfied: wheel<1.0,>=0.23.0 in /usr/local/lib/python3.10/dist-packages (from astunparse>=1.6.0->tensorflow>=1.9.0->deepface) (0.41.2)\n",
            "Requirement already satisfied: MarkupSafe>=2.0 in /usr/local/lib/python3.10/dist-packages (from Jinja2>=3.0->Flask>=1.1.2->deepface) (2.1.3)\n",
            "Requirement already satisfied: google-auth<3,>=1.6.3 in /usr/local/lib/python3.10/dist-packages (from tensorboard<2.14,>=2.13->tensorflow>=1.9.0->deepface) (2.17.3)\n",
            "Requirement already satisfied: google-auth-oauthlib<1.1,>=0.5 in /usr/local/lib/python3.10/dist-packages (from tensorboard<2.14,>=2.13->tensorflow>=1.9.0->deepface) (1.0.0)\n",
            "Requirement already satisfied: markdown>=2.6.8 in /usr/local/lib/python3.10/dist-packages (from tensorboard<2.14,>=2.13->tensorflow>=1.9.0->deepface) (3.4.4)\n",
            "Requirement already satisfied: tensorboard-data-server<0.8.0,>=0.7.0 in /usr/local/lib/python3.10/dist-packages (from tensorboard<2.14,>=2.13->tensorflow>=1.9.0->deepface) (0.7.1)\n",
            "Requirement already satisfied: soupsieve>1.2 in /usr/local/lib/python3.10/dist-packages (from beautifulsoup4->gdown>=3.10.1->deepface) (2.5)\n",
            "Requirement already satisfied: charset-normalizer<4,>=2 in /usr/local/lib/python3.10/dist-packages (from requests[socks]->gdown>=3.10.1->deepface) (3.2.0)\n",
            "Requirement already satisfied: idna<4,>=2.5 in /usr/local/lib/python3.10/dist-packages (from requests[socks]->gdown>=3.10.1->deepface) (3.4)\n",
            "Requirement already satisfied: urllib3<3,>=1.21.1 in /usr/local/lib/python3.10/dist-packages (from requests[socks]->gdown>=3.10.1->deepface) (2.0.4)\n",
            "Requirement already satisfied: certifi>=2017.4.17 in /usr/local/lib/python3.10/dist-packages (from requests[socks]->gdown>=3.10.1->deepface) (2023.7.22)\n",
            "Requirement already satisfied: PySocks!=1.5.7,>=1.5.6 in /usr/local/lib/python3.10/dist-packages (from requests[socks]->gdown>=3.10.1->deepface) (1.7.1)\n",
            "Requirement already satisfied: cachetools<6.0,>=2.0.0 in /usr/local/lib/python3.10/dist-packages (from google-auth<3,>=1.6.3->tensorboard<2.14,>=2.13->tensorflow>=1.9.0->deepface) (5.3.1)\n",
            "Requirement already satisfied: pyasn1-modules>=0.2.1 in /usr/local/lib/python3.10/dist-packages (from google-auth<3,>=1.6.3->tensorboard<2.14,>=2.13->tensorflow>=1.9.0->deepface) (0.3.0)\n",
            "Requirement already satisfied: rsa<5,>=3.1.4 in /usr/local/lib/python3.10/dist-packages (from google-auth<3,>=1.6.3->tensorboard<2.14,>=2.13->tensorflow>=1.9.0->deepface) (4.9)\n",
            "Requirement already satisfied: requests-oauthlib>=0.7.0 in /usr/local/lib/python3.10/dist-packages (from google-auth-oauthlib<1.1,>=0.5->tensorboard<2.14,>=2.13->tensorflow>=1.9.0->deepface) (1.3.1)\n",
            "Requirement already satisfied: pyasn1<0.6.0,>=0.4.6 in /usr/local/lib/python3.10/dist-packages (from pyasn1-modules>=0.2.1->google-auth<3,>=1.6.3->tensorboard<2.14,>=2.13->tensorflow>=1.9.0->deepface) (0.5.0)\n",
            "Requirement already satisfied: oauthlib>=3.0.0 in /usr/local/lib/python3.10/dist-packages (from requests-oauthlib>=0.7.0->google-auth-oauthlib<1.1,>=0.5->tensorboard<2.14,>=2.13->tensorflow>=1.9.0->deepface) (3.2.2)\n"
          ]
        }
      ]
    },
    {
      "cell_type": "code",
      "source": [
        "def face_crops_recoginiton(crop_count):\n",
        "  if crop_count == 0:\n",
        "    print(\"There is no faces in the image to compare the similarities between them\")\n",
        "  elif crop_count == 1:\n",
        "    print(\"There is one face only, Comparison undefined\")\n",
        "  else:\n",
        "    for i in range(crop_count):\n",
        "      for j in range(i+1, crop_count):\n",
        "        result = DeepFace.verify(img1_path = f\"Crop_{i+1}.jpg\",\n",
        "              img2_path = f\"Crop_{j+1}.jpg\",\n",
        "              model_name = \"Facenet\")\n",
        "        similarity = (1- result[\"distance\"]) * 100\n",
        "        print(f\"The similarity between face {i+1} and face {j+1} is {similarity:.2f}\")\n",
        "\n"
      ],
      "metadata": {
        "id": "cGYpVlpTiiqS"
      },
      "execution_count": 18,
      "outputs": []
    },
    {
      "cell_type": "markdown",
      "source": [
        "# ***Main:***"
      ],
      "metadata": {
        "id": "JtKb2_ry03YE"
      }
    },
    {
      "cell_type": "code",
      "source": [
        "face_detection_recognition()"
      ],
      "metadata": {
        "id": "YICrhfVJ02Iz"
      },
      "execution_count": null,
      "outputs": []
    }
  ],
  "metadata": {
    "colab": {
      "provenance": [],
      "gpuType": "T4",
      "include_colab_link": true
    },
    "kernelspec": {
      "display_name": "Python 3",
      "name": "python3"
    },
    "language_info": {
      "name": "python"
    },
    "accelerator": "GPU"
  },
  "nbformat": 4,
  "nbformat_minor": 0
}